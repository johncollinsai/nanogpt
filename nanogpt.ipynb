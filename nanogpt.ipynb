{
 "cells": [
  {
   "cell_type": "markdown",
   "id": "017cf8b3-95ba-4787-a3fb-17c69902f7e3",
   "metadata": {},
   "source": [
    "# Coming Soon ..."
   ]
  },
  {
   "cell_type": "markdown",
   "id": "a2eb8c89-0a68-468e-aa96-c6f2a6c9c659",
   "metadata": {},
   "source": [
    "![Knowledge in the style of Egon Schiele](nanogpt-dalle.png)"
   ]
  },
  {
   "cell_type": "markdown",
   "id": "7bfaacd4-a7e3-4b34-9574-f84a1712abd5",
   "metadata": {
    "execution": {
     "iopub.execute_input": "2023-01-29T09:19:03.622301Z",
     "iopub.status.busy": "2023-01-29T09:19:03.621004Z",
     "iopub.status.idle": "2023-01-29T09:19:03.628095Z",
     "shell.execute_reply": "2023-01-29T09:19:03.626538Z",
     "shell.execute_reply.started": "2023-01-29T09:19:03.622235Z"
    }
   },
   "source": [
    "Generative AI, specifically Foundation models and Large Language Models, have created enormous interest. I built and trained a ChatGPT like model, here are the insights I gained."
   ]
  }
 ],
 "metadata": {
  "kernelspec": {
   "display_name": "Python 3 (ipykernel)",
   "language": "python",
   "name": "python3"
  },
  "language_info": {
   "codemirror_mode": {
    "name": "ipython",
    "version": 3
   },
   "file_extension": ".py",
   "mimetype": "text/x-python",
   "name": "python",
   "nbconvert_exporter": "python",
   "pygments_lexer": "ipython3",
   "version": "3.8.10"
  }
 },
 "nbformat": 4,
 "nbformat_minor": 5
}
