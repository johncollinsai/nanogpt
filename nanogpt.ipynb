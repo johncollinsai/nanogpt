{
 "cells": [
  {
   "cell_type": "markdown",
   "id": "386c1731-7a29-43a4-8baf-71c9db62a787",
   "metadata": {},
   "source": [
    "#### I build a Generatively Pretrained Transformer (GPT), following __[Karpathy](https://www.youtube.com/watch?v=kCc8FmEb1nY)__, the seminal paper __[Attention Is All You Need](https://arxiv.org/abs/1706.03762)__and OpenAI's GPT-2 / GPT-3."
   ]
  },
  {
   "cell_type": "markdown",
   "id": "3fed8f79-c4d8-47e5-b04f-d60e0bb25101",
   "metadata": {},
   "source": [
    "***"
   ]
  },
  {
   "cell_type": "markdown",
   "id": "550c7378-6a41-49ff-880b-a7892a39f5cd",
   "metadata": {
    "tags": []
   },
   "source": [
    "#### Insights:"
   ]
  },
  {
   "cell_type": "markdown",
   "id": "bf034c08-7827-4e5d-a2b8-39b4ed78012f",
   "metadata": {},
   "source": [
    "> * Insights <br>\n",
    "> * Insights <br>\n",
    "> * Insights <br>\n",
    "> * Insights <br>\n",
    "> * Insights <br>\n",
    "> * Insights <br>\n",
    "> * Insights <br>\n",
    "> * Insights <br>\n",
    "> * Insights <br>\n",
    "> * Insights <br>"
   ]
  },
  {
   "cell_type": "markdown",
   "id": "caff1406-ef8d-4e31-bfc9-33238b211b52",
   "metadata": {},
   "source": [
    "***"
   ]
  },
  {
   "cell_type": "markdown",
   "id": "25b5996e-9a77-48a1-9e4f-802711b78965",
   "metadata": {},
   "source": [
    "#### The rest of this post ... [DOES WHAT?]."
   ]
  },
  {
   "cell_type": "markdown",
   "id": "af203336-ddb2-4de8-a9cb-6b7cdb690bac",
   "metadata": {},
   "source": [
    "***"
   ]
  },
  {
   "cell_type": "markdown",
   "id": "f5b9b1fc-b610-44c1-885d-1935aee8207e",
   "metadata": {},
   "source": [
    "# Establishing a baseline (bigram) language model"
   ]
  },
  {
   "cell_type": "markdown",
   "id": "24412df2-d41e-4ff2-80dc-90cf56d28f01",
   "metadata": {},
   "source": [
    "[Intro]"
   ]
  },
  {
   "cell_type": "markdown",
   "id": "a283f1c5-0ab2-4fc7-9a08-b7d76a8b55d1",
   "metadata": {},
   "source": [
    "#### Tokenization"
   ]
  },
  {
   "cell_type": "markdown",
   "id": "d1199a73-9e02-4635-9e4c-db741b22ce8a",
   "metadata": {},
   "source": [
    "[Details]"
   ]
  },
  {
   "cell_type": "markdown",
   "id": "40c31f70-00ec-4a57-b6b9-c610454e7f39",
   "metadata": {},
   "source": [
    "#### Train/val split"
   ]
  },
  {
   "cell_type": "markdown",
   "id": "8320008e-4209-4004-b6ed-6c2cc9b3eb4c",
   "metadata": {},
   "source": [
    "#### Loading the data"
   ]
  },
  {
   "cell_type": "code",
   "execution_count": null,
   "id": "17284bf7-4b71-4a9b-ad7a-6d0e071b2915",
   "metadata": {},
   "outputs": [],
   "source": []
  },
  {
   "cell_type": "code",
   "execution_count": null,
   "id": "417ce428-ce95-4fda-a752-d592e8aae08e",
   "metadata": {},
   "outputs": [],
   "source": []
  },
  {
   "cell_type": "code",
   "execution_count": null,
   "id": "bb4f5611-a44e-4419-bcbe-999e71659753",
   "metadata": {},
   "outputs": [],
   "source": []
  },
  {
   "cell_type": "code",
   "execution_count": null,
   "id": "205a1d78-d7cc-421a-99cc-50d3f030e685",
   "metadata": {},
   "outputs": [],
   "source": []
  },
  {
   "cell_type": "code",
   "execution_count": null,
   "id": "c0aee123-bfa7-4f73-9b35-bfabb87200ab",
   "metadata": {},
   "outputs": [],
   "source": []
  },
  {
   "cell_type": "markdown",
   "id": "46d1a718-bb5f-4479-a576-465adde0082c",
   "metadata": {},
   "source": [
    "# Building the \"self-attention\""
   ]
  },
  {
   "cell_type": "markdown",
   "id": "65089f35-33e4-45de-821c-e56ac1f5863e",
   "metadata": {},
   "source": []
  },
  {
   "cell_type": "markdown",
   "id": "66f55b9d-0af9-4044-b018-a5d89cd89af8",
   "metadata": {},
   "source": []
  },
  {
   "cell_type": "markdown",
   "id": "efd95003-8402-403e-a9c0-0e9c37485080",
   "metadata": {},
   "source": []
  },
  {
   "cell_type": "markdown",
   "id": "f0f818f9-4516-4c3f-9b8f-2d8de4beb9b1",
   "metadata": {},
   "source": [
    "# Building the Transformer"
   ]
  },
  {
   "cell_type": "markdown",
   "id": "4111fee3-add9-4c60-926d-b02395b6666a",
   "metadata": {},
   "source": [
    "#### Multi-headed self-attention"
   ]
  },
  {
   "cell_type": "markdown",
   "id": "fef32abc-c9fb-444e-9156-05bb5f9e1435",
   "metadata": {},
   "source": [
    "#### Residual connections"
   ]
  },
  {
   "cell_type": "markdown",
   "id": "58bf309b-a584-43c1-8ce7-49262dc145ee",
   "metadata": {},
   "source": [
    "#### Layernorms"
   ]
  },
  {
   "cell_type": "markdown",
   "id": "62d7d21b-cf7e-4ce7-ad6b-2b4e7d2f666c",
   "metadata": {},
   "source": []
  },
  {
   "cell_type": "markdown",
   "id": "8c338caa-0589-49a0-9ace-b179fa6acb88",
   "metadata": {
    "execution": {
     "iopub.execute_input": "2023-02-05T07:25:07.934342Z",
     "iopub.status.busy": "2023-02-05T07:25:07.934053Z",
     "iopub.status.idle": "2023-02-05T07:25:07.940165Z",
     "shell.execute_reply": "2023-02-05T07:25:07.938862Z",
     "shell.execute_reply.started": "2023-02-05T07:25:07.934322Z"
    }
   },
   "source": [
    "# [Notes on Transformer]"
   ]
  },
  {
   "cell_type": "markdown",
   "id": "6b675729-095d-40c2-9ba9-43f5794c17f3",
   "metadata": {},
   "source": []
  },
  {
   "cell_type": "markdown",
   "id": "8f3be788-107e-4786-8cde-1f9acef2007a",
   "metadata": {},
   "source": []
  },
  {
   "cell_type": "markdown",
   "id": "78f59f7d-55d5-4525-9e94-5f77e37db10b",
   "metadata": {},
   "source": []
  },
  {
   "cell_type": "code",
   "execution_count": null,
   "id": "b0b48bf2-8bf7-4999-a66a-2ca326d4995d",
   "metadata": {},
   "outputs": [],
   "source": []
  },
  {
   "cell_type": "code",
   "execution_count": null,
   "id": "5b43c973-0d09-48d3-bfd2-1fd049a00be5",
   "metadata": {},
   "outputs": [],
   "source": []
  },
  {
   "cell_type": "code",
   "execution_count": null,
   "id": "4e9012de-bb85-4ed4-9395-5db53fd0b897",
   "metadata": {},
   "outputs": [],
   "source": []
  }
 ],
 "metadata": {
  "kernelspec": {
   "display_name": "Python 3 (ipykernel)",
   "language": "python",
   "name": "python3"
  },
  "language_info": {
   "codemirror_mode": {
    "name": "ipython",
    "version": 3
   },
   "file_extension": ".py",
   "mimetype": "text/x-python",
   "name": "python",
   "nbconvert_exporter": "python",
   "pygments_lexer": "ipython3",
   "version": "3.8.10"
  }
 },
 "nbformat": 4,
 "nbformat_minor": 5
}
